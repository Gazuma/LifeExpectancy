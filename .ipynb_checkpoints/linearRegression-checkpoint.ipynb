{
 "cells": [
  {
   "cell_type": "code",
   "execution_count": 1,
   "id": "fd2d84cd",
   "metadata": {},
   "outputs": [],
   "source": [
    "#Notebook for linear regression model"
   ]
  },
  {
   "cell_type": "code",
   "execution_count": 1,
   "id": "125d0650",
   "metadata": {},
   "outputs": [
    {
     "name": "stdout",
     "output_type": "stream",
     "text": [
      "devanshu change\n"
     ]
    }
   ],
   "source": [
    "print(\"devanshu change\")"
   ]
  },
  {
   "cell_type": "code",
   "execution_count": null,
   "id": "d8774a0a",
   "metadata": {},
   "outputs": [],
   "source": []
  }
 ],
 "metadata": {
  "kernelspec": {
   "display_name": "Python 3 (ipykernel)",
   "language": "python",
   "name": "python3"
  },
  "language_info": {
   "codemirror_mode": {
    "name": "ipython",
    "version": 3
   },
   "file_extension": ".py",
   "mimetype": "text/x-python",
   "name": "python",
   "nbconvert_exporter": "python",
   "pygments_lexer": "ipython3",
   "version": "3.10.4"
  }
 },
 "nbformat": 4,
 "nbformat_minor": 5
}
